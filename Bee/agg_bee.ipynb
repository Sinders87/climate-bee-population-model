{
 "cells": [
  {
   "cell_type": "code",
   "execution_count": null,
   "id": "d8a7c6e5",
   "metadata": {},
   "outputs": [],
   "source": [
    "import pandas as pd\n",
    "\n",
    "df_usgs = pd.read_csv('./data/processed/cleaned_usgs_bee_data.csv')\n",
    "\n",
    "# Drop Unnecessary Columns \n",
    "columns_to_drop = ['kingdom', 'family', 'genus', 'species']\n",
    "df_usgs_simple = df_usgs.drop(columns=columns_to_drop)\n",
    "print(\"Step 1: Dropped unnecessary taxonomic columns.\")\n",
    "\n",
    "\n",
    "# Group and Count Sightings\n",
    "df_monthly_counts = df_usgs_simple.groupby(['stateProvince', 'year', 'month']).size().reset_index(name='sighting_count')\n",
    "print(\"Step 2: Aggregated bee sightings by state, year, and month.\")\n",
    "\n",
    "df_monthly_counts['year'] = df_monthly_counts['year'].astype(int)\n",
    "df_monthly_counts['month'] = df_monthly_counts['month'].astype(int)\n",
    "\n",
    "\n",
    "# Save the New Aggregated Dataset\n",
    "df_monthly_counts.to_csv('usgs_monthly_sighting_counts.csv', index=False)\n",
    "print(\"Step 3: New aggregated data saved to 'usgs_monthly_sighting_counts.csv'\")\n",
    "\n",
    "\n",
    "# Final Inspection\n",
    "print(\"\\n--- ✅ Aggregation Complete! ---\")\n",
    "print(\"Here's a preview of the new dataset:\")\n",
    "print(df_monthly_counts.head())"
   ]
  }
 ],
 "metadata": {
  "kernelspec": {
   "display_name": ".venv",
   "language": "python",
   "name": "python3"
  },
  "language_info": {
   "name": "python",
   "version": "3.13.2"
  }
 },
 "nbformat": 4,
 "nbformat_minor": 5
}
