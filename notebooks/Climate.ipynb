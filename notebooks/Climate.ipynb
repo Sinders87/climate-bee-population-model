{
 "cells": [
  {
   "cell_type": "markdown",
   "id": "e6a7bc91-97b7-4806-9ad7-282125195733",
   "metadata": {},
   "source": [
    "# 🌡️ Climate Data (PRISM)\n",
    "**Author:** Storm Pino  \n",
    "**Team Role:** Climate Lead (Member A)  \n",
    "**Kernel:** 🐝 Bee_Project  \n",
    "\n",
    "---\n",
    "\n",
    "### 📘 Objective\n",
    "Process PRISM climate data to produce state-level yearly averages for temperature, precipitation, and drought index (1985–present).  \n",
    "Create lag, anomaly, and change features for modeling bee population trends."
   ]
  },
  {
   "cell_type": "code",
   "execution_count": 1,
   "id": "9df8c061-5fa1-4360-906e-38884e9ed22e",
   "metadata": {},
   "outputs": [],
   "source": [
    "import pandas as pd              # Data handling and manipulation\n",
    "import numpy as np               # Numerical operations\n",
    "import matplotlib.pyplot as plt  # Plotting\n",
    "import seaborn as sns            # Statistical visualization"
   ]
  },
  {
   "cell_type": "code",
   "execution_count": 3,
   "id": "e3b19731-65a3-4f9b-9a57-00d76ea741b8",
   "metadata": {},
   "outputs": [
    {
     "name": "stdout",
     "output_type": "stream",
     "text": [
      "🌡️ Temperature dataset:\n",
      "(41856, 8)\n",
      "Index(['Unnamed: 0', 'month', 'year', 'state', 'average_temp',\n",
      "       'monthly_mean_from_1901_to_2000', 'centroid_lon', 'centroid_lat'],\n",
      "      dtype='object') \n",
      "\n",
      "🌧️ Precipitation dataset:\n",
      "(772, 87)\n",
      "Index(['index', 'STATION', 'STATION_NAME', 'ELEVATION', 'LATITUDE',\n",
      "       'LONGITUDE', 'DATE', 'reportType', 'HourlySkyConditions',\n",
      "       'HourlyVisibility', 'HourlyPresentWeatherType',\n",
      "       'HourlyDryBulbTemperatureF', 'HourlyDryBulbTemperatureC',\n",
      "       'HourlyWetBulbTemperatureF', 'HourlyWetBulbTemperatureC',\n",
      "       'HourlyDewPointTemperatureF', 'HourlyDewPointTemperatureC',\n",
      "       'HourlyRelativeHumidity', 'HourlyWindSpeed', 'HourlyWindDirection',\n",
      "       'HourlyWindGustSpeed', 'HourlyStationPressure',\n",
      "       'HourlyPressureTendency', 'HourlyPressureChange',\n",
      "       'HourlySeaLevelPressure', 'HourlyPrecipitation',\n",
      "       'HourlyAltimeterSetting', 'DailyMaximumDryBulbTemperature',\n",
      "       'DailyMinimumDryBulbTemperature', 'DailyAverageDryBulbTemperature',\n",
      "       'DailyDepartureFromNormalAverageTemperature',\n",
      "       'DailyAverageRelativeHumidity', 'DailyAverageDewPointTemperature',\n",
      "       'DailyAverageWetBulbTemperature', 'DailyHeatingDegreeDays',\n",
      "       'DailyCoolingDegreeDays', 'DailySunrise', 'DailySunset',\n",
      "       'DailyPrecipitation', 'DailySnowfall', 'DailySnowDepth',\n",
      "       'DailyAverageStationPressure', 'DailyAverageSeaLevelPressure',\n",
      "       'DailyAverageWindSpeed', 'DailyPeakWindSpeed', 'PeakWindDirection',\n",
      "       'DailySustainedWindSpeed', 'DailySustainedWindDirection',\n",
      "       'MonthlyMaximumTemperature', 'MonthlyMinimumTemperature',\n",
      "       'MonthlyMeanTemperature', 'MonthlyAverageRH',\n",
      "       'MonthlyDewpointTemperature', 'MonthlyWetBulb',\n",
      "       'MonthlyHeatingDegreeDays', 'MonthlyCoolingDegreeDays',\n",
      "       'MonthlyStationPressure', 'MonthlySeaLevelPressure',\n",
      "       'MonthlyAverageWindSpeed', 'MonthlyTotalSnowfall',\n",
      "       'MonthlyDepartureFromNormalMaximumTemperature',\n",
      "       'MonthlyDepartureFromNormalMinimumTemperature',\n",
      "       'MonthlyDepartureFromNormalAverageTemperature',\n",
      "       'MonthlyDepartureFromNormalPrecipitation',\n",
      "       'MonthlyTotalLiquidPrecipitation', 'MonthlyGreatestPrecip',\n",
      "       'MonthlyGreatestPrecipDate', 'MonthlyGreatestSnowfall',\n",
      "       'MonthlyGreatestSnowfallDate', 'MonthlyGreatestSnowDepth',\n",
      "       'MonthlyGreatestSnowDepthDate', 'MonthlyDaysWithGT90Temp',\n",
      "       'MonthlyDaysWithLT32Temp', 'MonthlyDaysWithGT32Temp',\n",
      "       'MonthlyDaysWithLT0Temp', 'MonthlyDaysWithGT001Precip',\n",
      "       'MonthlyDaysWithGT010Precip', 'MonthlyMaxSeaLevelPressureValue',\n",
      "       'MonthlyMaxSeaLevelPressureValueDate',\n",
      "       'MonthlyMaxSeaLevelPressureValueTime',\n",
      "       'MonthlyMinSeaLevelPressureValue',\n",
      "       'MonthlyMinSeaLevelPressureValueDate',\n",
      "       'MonthlyMinSeaLevelPressureValueTime', 'MonthlyTotalHeatingDegreeDays',\n",
      "       'MonthlyTotalCoolingDegreeDays', 'MonthlyDepartureFromNormalHeatingDD',\n",
      "       'MonthlyDepartureFromNormalCoolingDD'],\n",
      "      dtype='object')\n"
     ]
    }
   ],
   "source": [
    "path_temp = \"../data/raw/temperature.csv\"\n",
    "path_precip = \"../data/raw/precipitation.csv\"\n",
    "\n",
    "# Load both\n",
    "df_temp = pd.read_csv(path_temp)\n",
    "df_precip = pd.read_csv(path_precip)\n",
    "\n",
    "# Quick shape + column check\n",
    "print(\"🌡️ Temperature dataset:\")\n",
    "print(df_temp.shape)\n",
    "print(df_temp.columns, \"\\n\")\n",
    "\n",
    "print(\"🌧️ Precipitation dataset:\")\n",
    "print(df_precip.shape)\n",
    "print(df_precip.columns)"
   ]
  },
  {
   "cell_type": "code",
   "execution_count": null,
   "id": "296c2bc5-2d4e-4ce7-901d-ec32529076f0",
   "metadata": {},
   "outputs": [],
   "source": []
  }
 ],
 "metadata": {
  "kernelspec": {
   "display_name": "Python 3 (ipykernel)",
   "language": "python",
   "name": "python3"
  },
  "language_info": {
   "codemirror_mode": {
    "name": "ipython",
    "version": 3
   },
   "file_extension": ".py",
   "mimetype": "text/x-python",
   "name": "python",
   "nbconvert_exporter": "python",
   "pygments_lexer": "ipython3",
   "version": "3.12.7"
  }
 },
 "nbformat": 4,
 "nbformat_minor": 5
}
