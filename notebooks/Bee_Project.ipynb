{
 "cells": [
  {
   "cell_type": "markdown",
   "id": "82f132e8-1363-4355-92ed-445268188164",
   "metadata": {},
   "source": [
    "# Climate Change and Bee Populations in the United States\n",
    "### Notebook: 1_Data_Collection\n",
    "\n",
    "**Author:** Storm Pino, Peter1223, Anth0ny25-maker   \n",
    "**Team:** University of Houston — Data Science Project  \n",
    "**Kernel:** 🐝 Bee_Project  \n",
    "\n",
    "---\n",
    "\n",
    "### 📘 Objective\n",
    "Collect and harmonize multi-source datasets on U.S. bee populations, climate, and vegetation for modeling population trends.\n"
   ]
  },
  {
   "cell_type": "code",
   "execution_count": 2,
   "id": "64497949-2c24-4b7c-afd1-3eec544093f9",
   "metadata": {},
   "outputs": [],
   "source": [
    "#Import Libraries\n",
    "\n",
    "import pandas as pd              # Data handling and manipulation\n",
    "import numpy as np               # Numerical operations\n",
    "import matplotlib.pyplot as plt  # Plotting\n",
    "import seaborn as sns            # Statistical visualization\n",
    "\n",
    "#Import cleaned data"
   ]
  },
  {
   "cell_type": "code",
   "execution_count": null,
   "id": "090c8223-b159-49b9-ab05-cdcd2f8fdfad",
   "metadata": {},
   "outputs": [],
   "source": []
  }
 ],
 "metadata": {
  "kernelspec": {
   "display_name": "Python 3 (ipykernel)",
   "language": "python",
   "name": "python3"
  },
  "language_info": {
   "codemirror_mode": {
    "name": "ipython",
    "version": 3
   },
   "file_extension": ".py",
   "mimetype": "text/x-python",
   "name": "python",
   "nbconvert_exporter": "python",
   "pygments_lexer": "ipython3",
   "version": "3.12.7"
  }
 },
 "nbformat": 4,
 "nbformat_minor": 5
}
