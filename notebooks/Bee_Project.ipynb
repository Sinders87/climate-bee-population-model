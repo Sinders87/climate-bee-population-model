{
 "cells": [
  {
   "cell_type": "code",
   "execution_count": null,
   "id": "51c46bc8-6d06-4005-814c-40822bd62002",
   "metadata": {},
   "outputs": [],
   "source": [
    "# Climate Change and Bee Populations in the United States\n",
    "### Notebook: 1_Data_Collection\n",
    "\n",
    "**Author:** Storm Pino  \n",
    "**Team:** University of Houston — Data Science Project  \n",
    "**Kernel:** 🐝 Bee_Project  \n",
    "\n",
    "---\n",
    "\n",
    "### 📘 Objective\n",
    "Collect and harmonize multi-source datasets on U.S. bee populations, climate, and vegetation for modeling population trends.\n"
   ]
  }
 ],
 "metadata": {
  "kernelspec": {
   "display_name": "Python 3 (ipykernel)",
   "language": "python",
   "name": "python3"
  },
  "language_info": {
   "codemirror_mode": {
    "name": "ipython",
    "version": 3
   },
   "file_extension": ".py",
   "mimetype": "text/x-python",
   "name": "python",
   "nbconvert_exporter": "python",
   "pygments_lexer": "ipython3",
   "version": "3.12.7"
  }
 },
 "nbformat": 4,
 "nbformat_minor": 5
}
