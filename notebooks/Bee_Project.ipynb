{
 "cells": [
  {
   "cell_type": "markdown",
   "id": "82f132e8-1363-4355-92ed-445268188164",
   "metadata": {},
   "source": [
    "# Climate Change and Bee Populations in the United States\n",
    "### Notebook: 1_Data_Collection\n",
    "\n",
    "**Author:** Storm Pino  \n",
    "**Team:** University of Houston — Data Science Project  \n",
    "**Kernel:** 🐝 Bee_Project  \n",
    "\n",
    "---\n",
    "\n",
    "### 📘 Objective\n",
    "Collect and harmonize multi-source datasets on U.S. bee populations, climate, and vegetation for modeling population trends.\n"
   ]
  },
  {
   "cell_type": "code",
   "execution_count": 1,
   "id": "64497949-2c24-4b7c-afd1-3eec544093f9",
   "metadata": {},
   "outputs": [
    {
     "ename": "ModuleNotFoundError",
     "evalue": "No module named 'geopandas'",
     "output_type": "error",
     "traceback": [
      "\u001b[1;31m---------------------------------------------------------------------------\u001b[0m",
      "\u001b[1;31mModuleNotFoundError\u001b[0m                       Traceback (most recent call last)",
      "Cell \u001b[1;32mIn[1], line 8\u001b[0m\n\u001b[0;32m      6\u001b[0m \u001b[38;5;28;01mimport\u001b[39;00m \u001b[38;5;21;01mmatplotlib\u001b[39;00m\u001b[38;5;21;01m.\u001b[39;00m\u001b[38;5;21;01mpyplot\u001b[39;00m \u001b[38;5;28;01mas\u001b[39;00m \u001b[38;5;21;01mplt\u001b[39;00m  \u001b[38;5;66;03m# Plotting\u001b[39;00m\n\u001b[0;32m      7\u001b[0m \u001b[38;5;28;01mimport\u001b[39;00m \u001b[38;5;21;01mseaborn\u001b[39;00m \u001b[38;5;28;01mas\u001b[39;00m \u001b[38;5;21;01msns\u001b[39;00m            \u001b[38;5;66;03m# Statistical visualization\u001b[39;00m\n\u001b[1;32m----> 8\u001b[0m \u001b[38;5;28;01mimport\u001b[39;00m \u001b[38;5;21;01mgeopandas\u001b[39;00m \u001b[38;5;28;01mas\u001b[39;00m \u001b[38;5;21;01mgpd\u001b[39;00m          \u001b[38;5;66;03m# Geospatial data (state boundaries, etc.)\u001b[39;00m\n\u001b[0;32m     10\u001b[0m \u001b[38;5;66;03m# Display settings\u001b[39;00m\n\u001b[0;32m     11\u001b[0m pd\u001b[38;5;241m.\u001b[39mset_option(\u001b[38;5;124m'\u001b[39m\u001b[38;5;124mdisplay.max_columns\u001b[39m\u001b[38;5;124m'\u001b[39m, \u001b[38;5;28;01mNone\u001b[39;00m)\n",
      "\u001b[1;31mModuleNotFoundError\u001b[0m: No module named 'geopandas'"
     ]
    }
   ],
   "source": [
    "# ==========================================================\n",
    "# 1. Import Libraries\n",
    "# ==========================================================\n",
    "import pandas as pd              # Data handling and manipulation\n",
    "import numpy as np               # Numerical operations\n",
    "import matplotlib.pyplot as plt  # Plotting\n",
    "import seaborn as sns            # Statistical visualization\n",
    "import geopandas as gpd          # Geospatial data (state boundaries, etc.)\n",
    "\n",
    "# Display settings\n",
    "pd.set_option('display.max_columns', None)\n",
    "sns.set(style=\"whitegrid\", palette=\"muted\")\n",
    "\n",
    "print(\"✅ Libraries imported successfully\")\n"
   ]
  }
 ],
 "metadata": {
  "kernelspec": {
   "display_name": "Python 3 (ipykernel)",
   "language": "python",
   "name": "python3"
  },
  "language_info": {
   "codemirror_mode": {
    "name": "ipython",
    "version": 3
   },
   "file_extension": ".py",
   "mimetype": "text/x-python",
   "name": "python",
   "nbconvert_exporter": "python",
   "pygments_lexer": "ipython3",
   "version": "3.12.7"
  }
 },
 "nbformat": 4,
 "nbformat_minor": 5
}
